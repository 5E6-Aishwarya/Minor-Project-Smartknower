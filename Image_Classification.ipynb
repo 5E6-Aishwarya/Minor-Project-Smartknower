{
  "nbformat": 4,
  "nbformat_minor": 0,
  "metadata": {
    "colab": {
      "name": "Image Classification.ipynb",
      "provenance": [],
      "collapsed_sections": [],
      "authorship_tag": "ABX9TyNu6eLW92q760HuYTjSpoMd",
      "include_colab_link": true
    },
    "kernelspec": {
      "name": "python3",
      "display_name": "Python 3"
    },
    "language_info": {
      "name": "python"
    }
  },
  "cells": [
    {
      "cell_type": "markdown",
      "metadata": {
        "id": "view-in-github",
        "colab_type": "text"
      },
      "source": [
        "<a href=\"https://colab.research.google.com/github/5E6-Aishwarya/Minor-Project-Smartknower/blob/main/Image_Classification.ipynb\" target=\"_parent\"><img src=\"https://colab.research.google.com/assets/colab-badge.svg\" alt=\"Open In Colab\"/></a>"
      ]
    },
    {
      "cell_type": "code",
      "metadata": {
        "colab": {
          "base_uri": "https://localhost:8080/"
        },
        "id": "8AnNRbm_sBab",
        "outputId": "1392a140-17c1-4c7e-a0a6-65ee0643060f"
      },
      "source": [
        "!pip install ipython-autotime\n",
        "%load_ext autotime"
      ],
      "execution_count": 1,
      "outputs": [
        {
          "output_type": "stream",
          "text": [
            "Requirement already satisfied: ipython-autotime in /usr/local/lib/python3.7/dist-packages (0.3.1)\n",
            "Requirement already satisfied: ipython in /usr/local/lib/python3.7/dist-packages (from ipython-autotime) (5.5.0)\n",
            "Requirement already satisfied: pexpect; sys_platform != \"win32\" in /usr/local/lib/python3.7/dist-packages (from ipython->ipython-autotime) (4.8.0)\n",
            "Requirement already satisfied: prompt-toolkit<2.0.0,>=1.0.4 in /usr/local/lib/python3.7/dist-packages (from ipython->ipython-autotime) (1.0.18)\n",
            "Requirement already satisfied: pygments in /usr/local/lib/python3.7/dist-packages (from ipython->ipython-autotime) (2.6.1)\n",
            "Requirement already satisfied: decorator in /usr/local/lib/python3.7/dist-packages (from ipython->ipython-autotime) (4.4.2)\n",
            "Requirement already satisfied: simplegeneric>0.8 in /usr/local/lib/python3.7/dist-packages (from ipython->ipython-autotime) (0.8.1)\n",
            "Requirement already satisfied: setuptools>=18.5 in /usr/local/lib/python3.7/dist-packages (from ipython->ipython-autotime) (57.0.0)\n",
            "Requirement already satisfied: traitlets>=4.2 in /usr/local/lib/python3.7/dist-packages (from ipython->ipython-autotime) (5.0.5)\n",
            "Requirement already satisfied: pickleshare in /usr/local/lib/python3.7/dist-packages (from ipython->ipython-autotime) (0.7.5)\n",
            "Requirement already satisfied: ptyprocess>=0.5 in /usr/local/lib/python3.7/dist-packages (from pexpect; sys_platform != \"win32\"->ipython->ipython-autotime) (0.7.0)\n",
            "Requirement already satisfied: wcwidth in /usr/local/lib/python3.7/dist-packages (from prompt-toolkit<2.0.0,>=1.0.4->ipython->ipython-autotime) (0.2.5)\n",
            "Requirement already satisfied: six>=1.9.0 in /usr/local/lib/python3.7/dist-packages (from prompt-toolkit<2.0.0,>=1.0.4->ipython->ipython-autotime) (1.15.0)\n",
            "Requirement already satisfied: ipython-genutils in /usr/local/lib/python3.7/dist-packages (from traitlets>=4.2->ipython->ipython-autotime) (0.2.0)\n",
            "time: 1.05 ms (started: 2021-06-28 11:06:19 +00:00)\n"
          ],
          "name": "stdout"
        }
      ]
    },
    {
      "cell_type": "code",
      "metadata": {
        "id": "NpRVlBfJh4gW",
        "colab": {
          "base_uri": "https://localhost:8080/"
        },
        "outputId": "01be3f0c-3c78-49ab-8e70-1df21fd674c7"
      },
      "source": [
        "# Data : Images \n",
        "#1.Download images manually from Google\n",
        "#2.Download dataset from Kaggle.com\n",
        "#3.Build a Image Web Crawler\n",
        "#4.Use Python libraries to scrape the images(Using)"
      ],
      "execution_count": 2,
      "outputs": [
        {
          "output_type": "stream",
          "text": [
            "time: 2.48 ms (started: 2021-06-28 11:06:19 +00:00)\n"
          ],
          "name": "stdout"
        }
      ]
    },
    {
      "cell_type": "code",
      "metadata": {
        "colab": {
          "base_uri": "https://localhost:8080/"
        },
        "id": "tI89qasXy9Z2",
        "outputId": "08e9e024-6721-4b5f-88da-96b0b0a079a8"
      },
      "source": [
        "!pip install bing-image-downloader\n"
      ],
      "execution_count": 3,
      "outputs": [
        {
          "output_type": "stream",
          "text": [
            "Requirement already satisfied: bing-image-downloader in /usr/local/lib/python3.7/dist-packages (1.1.1)\n",
            "time: 2.53 s (started: 2021-06-28 11:06:19 +00:00)\n"
          ],
          "name": "stdout"
        }
      ]
    },
    {
      "cell_type": "code",
      "metadata": {
        "id": "S7ZBL7hfzNzg",
        "colab": {
          "base_uri": "https://localhost:8080/"
        },
        "outputId": "a1fdded3-5475-45b5-ad9b-2c9c1d28528f"
      },
      "source": [
        "!mkdir images\n"
      ],
      "execution_count": 4,
      "outputs": [
        {
          "output_type": "stream",
          "text": [
            "mkdir: cannot create directory ‘images’: File exists\n",
            "time: 124 ms (started: 2021-06-28 11:06:22 +00:00)\n"
          ],
          "name": "stdout"
        }
      ]
    },
    {
      "cell_type": "code",
      "metadata": {
        "colab": {
          "base_uri": "https://localhost:8080/"
        },
        "id": "e5wJV-eszas2",
        "outputId": "56e8a750-06b4-4749-af8d-3092bbd0617f"
      },
      "source": [
        "from bing_image_downloader import downloader\n",
        "downloader.download(\"digital camera\",limit = 70 ,output_dir = 'images',adult_filter_off = True)"
      ],
      "execution_count": 5,
      "outputs": [
        {
          "output_type": "stream",
          "text": [
            "[%] Downloading Images to /content/images/digital camera\n",
            "\n",
            "\n",
            "[!!]Indexing page: 1\n",
            "\n",
            "[%] Indexed 70 Images on Page 1.\n",
            "\n",
            "===============================================\n",
            "\n",
            "[%] Downloading Image #1 from https://i.pinimg.com/originals/23/17/2d/23172de4a8bdb6a95d8c50984379d9ad.jpg\n",
            "[%] File Downloaded !\n",
            "\n",
            "[%] Downloading Image #2 from http://www.digitalcamera.es/wp-content/uploads/2016/09/hasselblad.jpg\n",
            "[%] File Downloaded !\n",
            "\n",
            "[%] Downloading Image #3 from https://www.hiltonphoto.co.uk/images/shop/more/900x900_1548509031A1000Black4.jpg\n",
            "[%] File Downloaded !\n",
            "\n",
            "[%] Downloading Image #4 from https://n2.sdlcdn.com/imgs/a/v/4/Canon-PowerShot-SX410-20-0-SDL527305537-1-33997.jpg\n",
            "[%] File Downloaded !\n",
            "\n",
            "[%] Downloading Image #5 from https://i.pinimg.com/originals/47/71/05/477105729f8b50c6ceefe405b22caad8.jpg\n",
            "[%] File Downloaded !\n",
            "\n",
            "[%] Downloading Image #6 from https://www.bhphotovideo.com/images/images1000x1000/Nikon_26197_Coolpix_L22_Digital_Camera_675120.jpg\n",
            "[%] File Downloaded !\n",
            "\n",
            "[%] Downloading Image #7 from https://i.pinimg.com/originals/92/ba/84/92ba845f812582d32d65d392ee563e5b.jpg\n",
            "[%] File Downloaded !\n",
            "\n",
            "[%] Downloading Image #8 from https://i.pinimg.com/originals/3f/83/0b/3f830b039badaeceec4e2a54ab038058.jpg\n",
            "[%] File Downloaded !\n",
            "\n",
            "[%] Downloading Image #9 from https://i.pinimg.com/736x/60/2b/dc/602bdc04f0a1730185dabcb2ad8f3d73--cinema-camera-film-camera.jpg\n",
            "[%] File Downloaded !\n",
            "\n",
            "[%] Downloading Image #10 from https://i.pinimg.com/736x/1e/6b/5b/1e6b5bade7ada97b8905c7c233b392e5--canon-cameras-nikon.jpg\n",
            "[%] File Downloaded !\n",
            "\n",
            "[%] Downloading Image #11 from https://www.bhphotovideo.com/images/images2500x2500/olympus_v103070bu000_stylus_sp_100_digital_camera_1026689.jpg\n",
            "[%] File Downloaded !\n",
            "\n",
            "[%] Downloading Image #12 from https://i5.walmartimages.com/asr/aa358a34-4edd-46d5-b465-33294763a887_1.af3fcb9c8795fab2750d0cd3b92e17d2.jpeg\n",
            "[%] File Downloaded !\n",
            "\n",
            "[%] Downloading Image #13 from https://static.techspot.com/images2/news/bigimage/2018/03/2018-03-29-image-14.jpg\n",
            "[%] File Downloaded !\n",
            "\n",
            "[%] Downloading Image #14 from http://omaxmicroscope.com/media/catalog/product/cache/1/image/1800x/040ec09b1e35df139433887a97daa66f/c/p/cpzj-150r_3.jpg\n",
            "[%] File Downloaded !\n",
            "\n",
            "[%] Downloading Image #15 from https://www.mirrorlessons.com/wp-content/uploads/2015/02/Konost-05.jpg\n",
            "[%] File Downloaded !\n",
            "\n",
            "[%] Downloading Image #16 from http://www.thephoblographer.com/wp-content/uploads/2013/09/Sony-Handycam_-FDR-AX1-4K-Camcorder.jpg\n",
            "[%] File Downloaded !\n",
            "\n",
            "[%] Downloading Image #17 from https://i.pinimg.com/originals/82/78/0c/82780c3e375b1523e30f8c1953699191.jpg\n",
            "[%] File Downloaded !\n",
            "\n",
            "[%] Downloading Image #18 from https://i.pinimg.com/originals/44/b7/56/44b75690fa6934d321f0dc8d4c05e088.jpg\n",
            "[%] File Downloaded !\n",
            "\n",
            "[%] Downloading Image #19 from https://www.ephotozine.com/articles/hasselblad-true-zoom-moto-mod-review-30287/images/xlg_Hasselblad-True-Zoom-3_1480511975.jpg\n",
            "[%] File Downloaded !\n",
            "\n",
            "[%] Downloading Image #20 from https://www.markertek.com/productImage/ALTERNATE-1/HI-RES/BMD-CINEMACAMERA.JPG\n",
            "[%] File Downloaded !\n",
            "\n",
            "[%] Downloading Image #21 from https://www.mirrorlessons.com/wp-content/uploads/2015/02/Konost-03.jpg\n",
            "[%] File Downloaded !\n",
            "\n",
            "[%] Downloading Image #22 from https://img.dtcn.com/image/digitaltrends/panasonic-lumix-s5-review-dm-3-2-640x640.jpg\n",
            "[%] File Downloaded !\n",
            "\n",
            "[%] Downloading Image #23 from https://i.pinimg.com/originals/ac/99/6c/ac996c2c7efc748b439e34695e1e5ab5.jpg\n",
            "[%] File Downloaded !\n",
            "\n",
            "[%] Downloading Image #24 from https://ae01.alicdn.com/kf/HTB1tWF_fRDH8KJjSszcq6zDTFXaa/1X-500X-True-5-0MP-Video-Camera-Digital-USB-Microscope-camera-OTG-Function-8LED-electronic-Zoom.jpg\n",
            "[%] File Downloaded !\n",
            "\n",
            "[%] Downloading Image #25 from https://shashinki.com/shop/images/SIG-DP2X-01.jpg\n",
            "[%] File Downloaded !\n",
            "\n",
            "[%] Downloading Image #26 from https://www.olympus-global.com/technology/museum/camera/products/images/e-10.jpg\n",
            "[%] File Downloaded !\n",
            "\n",
            "[%] Downloading Image #27 from https://omaxmicroscope.com/media/catalog/product/cache/1/image/1800x/040ec09b1e35df139433887a97daa66f/c/p/cpzj-150r.jpg\n",
            "[%] File Downloaded !\n",
            "\n",
            "[%] Downloading Image #28 from https://shashinki.com/shop/images/SIG-DP2X.jpg\n",
            "[%] File Downloaded !\n",
            "\n",
            "[%] Downloading Image #29 from https://www.dpreview.com/files/p/articles/5891532997/inhand-front.jpeg\n",
            "[%] File Downloaded !\n",
            "\n",
            "[%] Downloading Image #30 from http://www.techtoyreviews.com/wp-content/uploads/2015/02/True-digital-rangefinder-camera.jpg\n",
            "[%] File Downloaded !\n",
            "\n",
            "[%] Downloading Image #31 from https://i.ytimg.com/vi/HWw3m-IBQoY/maxresdefault.jpg\n",
            "[%] File Downloaded !\n",
            "\n",
            "[%] Downloading Image #32 from http://omaxmicroscope.com/media/catalog/product/cache/1/image/1800x/040ec09b1e35df139433887a97daa66f/c/p/cpzj-150r_2.jpg\n",
            "[%] File Downloaded !\n",
            "\n",
            "[%] Downloading Image #33 from https://omaxmicroscope.com/media/catalog/product/cache/1/image/1800x/040ec09b1e35df139433887a97daa66f/c/p/cpzj-150r_4.jpg\n",
            "[%] File Downloaded !\n",
            "\n",
            "[%] Downloading Image #34 from https://ae01.alicdn.com/kf/HTB1cbNCKXXXXXXraXXXq6xXFXXXo/OTG-Function-USB-Microscope-8LED-Digital-Zoom-Magnifier-with-Holder-True-5-0MP-Video-Camera-1X.jpg\n",
            "[%] File Downloaded !\n",
            "\n",
            "[%] Downloading Image #35 from https://petapixel.com/assets/uploads/2016/06/Fujix-DS-1P_b9486adc84c0cd15cef3cdb7a014d085.jpg\n",
            "[%] File Downloaded !\n",
            "\n",
            "[%] Downloading Image #36 from https://i.pinimg.com/originals/76/fc/33/76fc33300e6100d6432814b707b93b43.jpg\n",
            "[%] File Downloaded !\n",
            "\n",
            "[%] Downloading Image #37 from https://www.dpreview.com/files/p/articles/3717128828/front-on.jpeg\n",
            "[%] File Downloaded !\n",
            "\n",
            "[%] Downloading Image #38 from https://ae01.alicdn.com/kf/HTB1VKhND25TBuNjSspcq6znGFXaE/25X-600X-USB-Digital-Microscope-Zoom-Endoscope-with-8-LED-Light-Universal-Stand-True-2-0MP.jpg\n",
            "[%] File Downloaded !\n",
            "\n",
            "[%] Downloading Image #39 from https://i.pinimg.com/originals/fa/50/e0/fa50e0e71ea89c35c75faa636277b6a2.jpg\n",
            "[%] File Downloaded !\n",
            "\n",
            "[%] Downloading Image #40 from https://images-na.ssl-images-amazon.com/images/I/81DGvBgW%2ByL.jpg\n",
            "[%] File Downloaded !\n",
            "\n",
            "[%] Downloading Image #41 from https://w1nnersclub.com/wp-content/uploads/2017/05/kodak-digital-camera.jpg\n",
            "[%] File Downloaded !\n",
            "\n",
            "[%] Downloading Image #42 from https://images-na.ssl-images-amazon.com/images/I/711kWHXB1kL._SL1500_.jpg\n",
            "[%] File Downloaded !\n",
            "\n",
            "[%] Downloading Image #43 from https://images-na.ssl-images-amazon.com/images/I/71PhNL6x3RL.jpg\n",
            "[%] File Downloaded !\n",
            "\n",
            "[%] Downloading Image #44 from https://ae01.alicdn.com/kf/HTB12BKrfJrJ8KJjSspaq6xuKpXaG/1X-500X-Digital-USB-Microscope-camera-OTG-Function-True-5-0MP-Video-Camera-8LED-electronic-Zoom.jpg\n",
            "[%] File Downloaded !\n",
            "\n",
            "[%] Downloading Image #45 from https://media.gettyimages.com/photos/detail-of-a-hasselblad-true-zoom-digital-camera-module-fitted-to-a-picture-id943770784\n",
            "[%] File Downloaded !\n",
            "\n",
            "[%] Downloading Image #46 from https://omaxmicroscope.com/media/catalog/product/cache/1/image/1800x/040ec09b1e35df139433887a97daa66f/c/p/cpzj-150r_1.jpg\n",
            "[%] File Downloaded !\n",
            "\n",
            "[%] Downloading Image #47 from https://chickadeesolutions.com/wp-content/uploads/2019/05/81buMb0ebzL-1200x1200.jpg\n",
            "[%] File Downloaded !\n",
            "\n",
            "[%] Downloading Image #48 from https://i.pinimg.com/originals/ea/15/34/ea1534ef22884aa6c8da02b0e29dbc9b.jpg\n",
            "[%] File Downloaded !\n",
            "\n",
            "[%] Downloading Image #49 from https://www.bcdbazaar.com/prodimage/ProductImage/800/61abf0e4-fef4-44d7-a6f3-168792d4f253.jpg\n",
            "[%] File Downloaded !\n",
            "\n",
            "[%] Downloading Image #50 from https://images.autods.com/ebay_images/796-OptiTekscope-Digital-USB-Microscope-Camera-True-High-Definition-Macro-200x-Zoom-Imaging-1600x1200-ndash-Video-ndash-Advanced-CMOS-Sensor-ndash-with-8-LED-Windows-MAC-Linux-OS-b58ef5e6-9d91-422d-a7df-d3b95655017c\n",
            "[%] File Downloaded !\n",
            "\n",
            "[%] Downloading Image #51 from https://i5.walmartimages.com/asr/994bf712-da7f-4cbb-bfbd-ee9b1dfc8d34_1.17929a4f5f772f80d5cfb7620748ece7.jpeg\n",
            "[%] File Downloaded !\n",
            "\n",
            "[%] Downloading Image #52 from https://i1.wp.com/truesouthmarine.com/wp-content/uploads/2019/04/Swift-Trial-True-South-Marine-Surveying.jpg?ssl=1\n",
            "[%] File Downloaded !\n",
            "\n",
            "[%] Downloading Image #53 from https://images-na.ssl-images-amazon.com/images/I/71Kpb9%2B6M9L._AC_SL1500_.jpg\n",
            "[%] File Downloaded !\n",
            "\n",
            "[%] Downloading Image #54 from http://www.telephonesonline.com.au/images/D/CANON MV960 DIGITAL VIDEO CAMERA-larger.bmp\n",
            "[!] Issue getting: http://www.telephonesonline.com.au/images/D/CANON MV960 DIGITAL VIDEO CAMERA-larger.bmp\n",
            "[!] Error:: URL can't contain control characters. '/images/D/CANON MV960 DIGITAL VIDEO CAMERA-larger.bmp' (found at least ' ')\n",
            "[%] Downloading Image #54 from https://www.bhphotovideo.com/images/images2000x2000/sigma_zl900_sd_quattro_mirrorless_digital_1261907.jpg\n",
            "[%] File Downloaded !\n",
            "\n",
            "[%] Downloading Image #55 from https://ae01.alicdn.com/kf/HTB1nGN6fRfH8KJjy1Xbq6zLdXXat/1X-500X-mini-digital-USB-Microscope-camera-OTG-Function-8LED-Digital-Zoom-biology-Magnifier-with-Holder.jpg\n",
            "[%] File Downloaded !\n",
            "\n",
            "[%] Downloading Image #56 from http://techprezz.com/wp-content/uploads/2011/07/Sonya77-1-478x500.jpg\n",
            "[%] File Downloaded !\n",
            "\n",
            "[%] Downloading Image #57 from https://www.fareastgizmos.com/wp-content/uploads/2012/07/panasonic_G5.jpg\n",
            "[%] File Downloaded !\n",
            "\n",
            "[%] Downloading Image #58 from https://mobileimages.lowes.com/product/converted/861370/861370000140.jpg\n",
            "[%] File Downloaded !\n",
            "\n",
            "[%] Downloading Image #59 from https://3.bp.blogspot.com/-j8-a9f3r9d0/TgKfzebyPeI/AAAAAAAAACk/cwM1ADIVZe4/s1600/5D+Camera+c%25C3%25B3pia.jpg\n",
            "[%] File Downloaded !\n",
            "\n",
            "[%] Downloading Image #60 from https://images-na.ssl-images-amazon.com/images/I/81n08UmPaJL._AC_SL1500_.jpg\n",
            "[%] File Downloaded !\n",
            "\n",
            "[%] Downloading Image #61 from https://ae01.alicdn.com/kf/HTB1E_V8fRDH8KJjSszcq6zDTFXaa/1X-500X-Digital-USB-Microscope-camera-OTG-Function-8LED-electronic-Zoom-biology-Magnifier-with-Holder-True.jpg\n",
            "[%] File Downloaded !\n",
            "\n",
            "[%] Downloading Image #62 from http://www.markertek.com/productImage/ALTERNATE-3/HI-RES/BMD-CINEMACAMERA.JPG\n",
            "[%] File Downloaded !\n",
            "\n",
            "[%] Downloading Image #63 from https://fareastgizmos.com/wp-content/uploads/2012/07/panasonic_G5_lcd.jpg\n",
            "[%] File Downloaded !\n",
            "\n",
            "[%] Downloading Image #64 from https://cukii.com/sites/default/files/ttool/92614-1X-500X-USB-Microscope-OTG-Function-True-5.0MP-Video-Camera-8LED-Magnification-Digital-Zoom-Magnifier-with-Holder-4-50cm-Focus-6.jpg\n",
            "[%] File Downloaded !\n",
            "\n",
            "[%] Downloading Image #65 from https://www.hotrate.com/wp-content/uploads/2020/01/Best-Digital-Camera-under-200.jpg\n",
            "[%] File Downloaded !\n",
            "\n",
            "[%] Downloading Image #66 from https://img.dtcn.com/image/digitaltrends/panasonic-lumix-s5-review-dm-8-1200x9999.jpg\n",
            "[%] File Downloaded !\n",
            "\n",
            "[%] Downloading Image #67 from https://img.grouponcdn.com/stores/2rvQn5VZfEPtrJbwx69C6XyWrQnX/storespi708177-1040x640/v1/c700x420.jpg\n",
            "[%] File Downloaded !\n",
            "\n",
            "[%] Downloading Image #68 from https://i.pinimg.com/originals/cf/b9/20/cfb9204e74b704bb5beb10882c49c33d.jpg\n",
            "[%] File Downloaded !\n",
            "\n",
            "[%] Downloading Image #69 from https://ae01.alicdn.com/kf/HTB18x2hgTnI8KJjSszbq6z4KFXaF/USB-Portable-Microscope-OTG-Function-8LED-Digital-Zoom-Magnifier-with-Holder-True-5-0MP-Video-Camera.jpg\n",
            "[%] File Downloaded !\n",
            "\n",
            "\n",
            "\n",
            "[!!]Indexing page: 2\n",
            "\n",
            "[%] Indexed 35 Images on Page 2.\n",
            "\n",
            "===============================================\n",
            "\n",
            "[%] Downloading Image #70 from https://i.pinimg.com/originals/23/17/2d/23172de4a8bdb6a95d8c50984379d9ad.jpg\n",
            "[%] File Downloaded !\n",
            "\n",
            "\n",
            "\n",
            "[%] Done. Downloaded 70 images.\n",
            "===============================================\n",
            "\n",
            "Please show your support here\n",
            "https://www.buymeacoffee.com/gurugaurav\n",
            "\n",
            "===============================================\n",
            "\n",
            "time: 15 s (started: 2021-06-28 11:06:22 +00:00)\n"
          ],
          "name": "stdout"
        }
      ]
    },
    {
      "cell_type": "code",
      "metadata": {
        "colab": {
          "base_uri": "https://localhost:8080/"
        },
        "id": "eV5gziuS1If5",
        "outputId": "484375d4-8f0b-4352-c3c3-f2ec83f61a84"
      },
      "source": [
        "downloader.download(\"usb flash drive\",limit = 70,output_dir = 'images',adult_filter_off=True)"
      ],
      "execution_count": 6,
      "outputs": [
        {
          "output_type": "stream",
          "text": [
            "[%] Downloading Images to /content/images/usb flash drive\n",
            "\n",
            "\n",
            "[!!]Indexing page: 1\n",
            "\n",
            "[%] Indexed 70 Images on Page 1.\n",
            "\n",
            "===============================================\n",
            "\n",
            "[%] Downloading Image #1 from https://ae01.alicdn.com/kf/HTB1lkf6RpXXXXabXFXXq6xXFXXXT/pendrive-64GB-32GB-16GB-8GB-4GB-USB-flash-drive-stainless-steel-metal-100-true-capacity-Drives.jpg\n",
            "[%] File Downloaded !\n",
            "\n",
            "[%] Downloading Image #2 from https://image.pushauction.com/0/0/6cd44762-2eb6-460e-8e65-102d605f1126/c1f7c882-3bcd-488d-a764-1e9722fd8d60.jpg\n",
            "[%] File Downloaded !\n",
            "\n",
            "[%] Downloading Image #3 from http://i.ebayimg.com/images/i/261528649895-0-1/s-l1000.jpg\n",
            "[%] File Downloaded !\n",
            "\n",
            "[%] Downloading Image #4 from https://image.pushauction.com/0/0/6cd44762-2eb6-460e-8e65-102d605f1126/3b67f75d-2f67-447c-a2c6-bae1079ba228.jpg\n",
            "[%] File Downloaded !\n",
            "\n",
            "[%] Downloading Image #5 from https://ae01.alicdn.com/kf/HTB13Ks_SpXXXXaNXXXXq6xXFXXXu/True-Capacity-3-In-1-USB-Pen-Drive-64GB-32GB-16GB-8GB-128GB-Laser-Pointer-2.jpg\n",
            "[%] File Downloaded !\n",
            "\n",
            "[%] Downloading Image #6 from https://image.pushauction.com/0/0/6cd44762-2eb6-460e-8e65-102d605f1126/a31e9513-3a54-4acd-b571-643ab4395111.jpg\n",
            "[%] File Downloaded !\n",
            "\n",
            "[%] Downloading Image #7 from https://i.pinimg.com/originals/65/ef/96/65ef96b51239d884c341b2ff6bd82e01.jpg\n",
            "[%] File Downloaded !\n",
            "\n",
            "[%] Downloading Image #8 from https://ae01.alicdn.com/kf/HTB15MWBRFXXXXXaaXXXq6xXFXXXg/True-Capacity-3-In-1-USB-Pen-Drive-64GB-32GB-16GB-8GB-4GB-Laser-Pointer-3.jpg\n",
            "[%] File Downloaded !\n",
            "\n",
            "[%] Downloading Image #9 from https://ae01.alicdn.com/kf/HTB155FOaCtYBeNjSspkq6zU8VXaT/UMY-2018-USB-Flash-Drive-Stick-Pen-Drive-32gb-16gb-8gb-4gb-Waterproof-USB-2-0.jpg\n",
            "[%] File Downloaded !\n",
            "\n",
            "[%] Downloading Image #10 from https://ae01.alicdn.com/kf/HTB17dU_OXXXXXXVapXXq6xXFXXXx/True-capacity-128gb-256gb-High-speed-USB-3-0-Leather-Usb-Flash-Drive-8gb-16gb-32gb.jpg\n",
            "[%] File Downloaded !\n",
            "\n",
            "[%] Downloading Image #11 from https://ae01.alicdn.com/kf/HTB1Ru2uXEvrK1RjSspcq6zzSXXau/100-true-USB-Flash-Drive-past-desgin-bullion-gold-bar-USB-Flash-Drive-U-Disk-to.jpg\n",
            "[%] File Downloaded !\n",
            "\n",
            "[%] Downloading Image #12 from https://sc02.alicdn.com/kf/HTB1RyE1KXXXXXbHXXXXq6xXFXXXo/225730224/HTB1RyE1KXXXXXbHXXXXq6xXFXXXo.jpg\n",
            "[%] File Downloaded !\n",
            "\n",
            "[%] Downloading Image #13 from https://i.ebayimg.com/00/s/MTAwMFgxMDAw/z/kYgAAOSweW5VgAYK/$_57.JPG?set_id=880000500F\n",
            "[%] File Downloaded !\n",
            "\n",
            "[%] Downloading Image #14 from https://coolusbsticks.com/wp-content/uploads/2018/10/2121-6dced0.jpg\n",
            "[%] File Downloaded !\n",
            "\n",
            "[%] Downloading Image #15 from https://i.pinimg.com/originals/0e/4c/30/0e4c306923e703789876fc009fda87e9.jpg\n",
            "[%] File Downloaded !\n",
            "\n",
            "[%] Downloading Image #16 from https://i.pinimg.com/originals/b3/14/e2/b314e2d620ea0df0bfc562af170ab72b.jpg\n",
            "[%] File Downloaded !\n",
            "\n",
            "[%] Downloading Image #17 from https://sc01.alicdn.com/kf/HTB1QSZsf_AKL1JjSZFCq6xFspXaQ/6876445/HTB1QSZsf_AKL1JjSZFCq6xFspXaQ.jpg\n",
            "[%] File Downloaded !\n",
            "\n",
            "[%] Downloading Image #18 from https://i.pinimg.com/originals/bc/00/86/bc008667d69db2404f638aa126b047af.jpg\n",
            "[%] File Downloaded !\n",
            "\n",
            "[%] Downloading Image #19 from https://toptoyusa.s3-accelerate.amazonaws.com/wp-content/uploads/2020/06/18122340/619-8tHK2TL._AC_SL1300_.jpg\n",
            "[%] File Downloaded !\n",
            "\n",
            "[%] Downloading Image #20 from https://static2.makeuseofimages.com/wordpress/wp-content/uploads/2015/10/usb-buying-guide.jpg\n",
            "[%] File Downloaded !\n",
            "\n",
            "[%] Downloading Image #21 from https://i.ebayimg.com/images/i/270328906228-0-1/s-l1000.jpg\n",
            "[%] File Downloaded !\n",
            "\n",
            "[%] Downloading Image #22 from https://image.pushauction.com/0/0/6cd44762-2eb6-460e-8e65-102d605f1126/ddc53a65-a41c-4fbd-bc7c-da31d9fd20ec.jpg\n",
            "[%] File Downloaded !\n",
            "\n",
            "[%] Downloading Image #23 from https://coolusbsticks.com/wp-content/uploads/2018/10/2121-ca9fbd.jpg\n",
            "[%] File Downloaded !\n",
            "\n",
            "[%] Downloading Image #24 from https://coolusbsticks.com/wp-content/uploads/2018/10/2121-0b1dc7.jpg\n",
            "[%] File Downloaded !\n",
            "\n",
            "[%] Downloading Image #25 from https://i.pinimg.com/originals/17/60/34/176034ce471341aa0125d77dd5ef6dac.jpg\n",
            "[%] File Downloaded !\n",
            "\n",
            "[%] Downloading Image #26 from https://i.pinimg.com/originals/cd/4e/c3/cd4ec3e1d80d1a79de6a26a979c600f6.jpg\n",
            "[%] File Downloaded !\n",
            "\n",
            "[%] Downloading Image #27 from https://sc01.alicdn.com/kf/HTB14Pb2b3oQMeJjy0Foq6AShVXa6/200330463/HTB14Pb2b3oQMeJjy0Foq6AShVXa6.jpg\n",
            "[%] File Downloaded !\n",
            "\n",
            "[%] Downloading Image #28 from https://i.ebayimg.com/images/g/0cMAAOSw25dfMW8p/s-l640.jpg\n",
            "[%] File Downloaded !\n",
            "\n",
            "[%] Downloading Image #29 from https://tronicsgeek.com/wp-content/uploads/2017/10/32-GB-Mercedes-Benz-Car-Key-USB-20-Flash-Drive-Memory-Card-Stick-True-Capacity-0-300x300.jpg\n",
            "[%] File Downloaded !\n",
            "\n",
            "[%] Downloading Image #30 from https://i.ebayimg.com/00/s/MTAwMFgxMDAw/z/4WIAAOSw~ZdVgAXu/$_57.JPG?set_id=880000500F\n",
            "[%] File Downloaded !\n",
            "\n",
            "[%] Downloading Image #31 from https://www.bhphotovideo.com/images/images2500x2500/samsung_muf_32ab_am_samsung_fit_plus_32gb_1417047.jpg\n",
            "[%] File Downloaded !\n",
            "\n",
            "[%] Downloading Image #32 from https://i.pinimg.com/originals/f5/7b/3e/f57b3e305db21298e52e6496bc04e3bc.jpg\n",
            "[%] File Downloaded !\n",
            "\n",
            "[%] Downloading Image #33 from https://i.ebayimg.com/00/s/MTAwMFgxMDAw/z/M~wAAOSw3xJVgAX~/$_57.JPG?set_id=880000500F\n",
            "[%] File Downloaded !\n",
            "\n",
            "[%] Downloading Image #34 from https://i.pinimg.com/originals/75/d6/59/75d6599fecd29ffcdb4b2f37022640fc.jpg\n",
            "[%] File Downloaded !\n",
            "\n",
            "[%] Downloading Image #35 from https://sc01.alicdn.com/kf/HTB1O4ZYKXXXXXX4XpXXq6xXFXXXb/225730224/HTB1O4ZYKXXXXXX4XpXXq6xXFXXXb.jpg\n",
            "[%] File Downloaded !\n",
            "\n",
            "[%] Downloading Image #36 from http://knoppix.net/store/img-large/pny-external-hard-drive-ssd-usb-3-0-3-1-480gb-acronis-true-image-hd-backup-4k_164389997509.jpg\n",
            "[%] File Downloaded !\n",
            "\n",
            "[%] Downloading Image #37 from https://4.bp.blogspot.com/-c_hLqvJ1Rwc/UJk83UXZEiI/AAAAAAAAN4Y/Jua6745IA_w/s1600/IMG_3300.JPG\n",
            "[%] File Downloaded !\n",
            "\n",
            "[%] Downloading Image #38 from https://ae01.alicdn.com/kf/HTB1ch8yNFXXXXbDaXXXq6xXFXXX8/Car-Key-USB-Flash-Drive-100-True-capacity-128GB-256GB-Flash-usb-3-0-8gb-16gb.jpg\n",
            "[%] File Downloaded !\n",
            "\n",
            "[%] Downloading Image #39 from https://www.dhresource.com/0x0s/f2-albu-g8-M00-1A-D3-rBVaVF3qFPmAL7OrAAGLvv_D7Kw380.jpg/bulk-10pcs-32gb-usb-flash-drives-swivel-thumb.jpg\n",
            "[%] File Downloaded !\n",
            "\n",
            "[%] Downloading Image #40 from https://www.dhresource.com/0x0/f2/albu/g2/M00/B7/D3/rBVaGlZiiZGAWEZ6AANNK4C-pGs801.jpg/8gb-100-pcs-usb2-0-drive-memory-flash-pendrive.jpg\n",
            "[%] File Downloaded !\n",
            "\n",
            "[%] Downloading Image #41 from https://c1.neweggimages.com/ProductImage/AJXR_132168080373883457ucb7JTeGYG.jpg\n",
            "[%] File Downloaded !\n",
            "\n",
            "[%] Downloading Image #42 from https://i.pinimg.com/originals/e7/d5/26/e7d526627211f38d6fab8e6f9a1d7904.jpg\n",
            "[%] File Downloaded !\n",
            "\n",
            "[%] Downloading Image #43 from https://1.bp.blogspot.com/-wvkx1uvrI00/UJk8tQZzuwI/AAAAAAAAN3w/yuxJ-gxtSC8/s1600/IMG_3294.JPG\n",
            "[%] File Downloaded !\n",
            "\n",
            "[%] Downloading Image #44 from https://store.customusb.com/wp-content/uploads/2014/09/tru-blood-usb-flash-drive-536x536.jpg\n",
            "[%] File Downloaded !\n",
            "\n",
            "[%] Downloading Image #45 from https://i.pinimg.com/originals/dd/25/f7/dd25f72e2d9189cd789052de17d324fe.jpg\n",
            "[%] File Downloaded !\n",
            "\n",
            "[%] Downloading Image #46 from http://i.ebayimg.com/images/i/191710728819-0-1/s-l1000.jpg\n",
            "[%] File Downloaded !\n",
            "\n",
            "[%] Downloading Image #47 from https://sc01.alicdn.com/kf/HTB1luHQb5IRMeJjy0Fbq6znqXXae/200330463/HTB1luHQb5IRMeJjy0Fbq6znqXXae.jpg\n",
            "[%] File Downloaded !\n",
            "\n",
            "[%] Downloading Image #48 from https://ae01.alicdn.com/kf/HTB1nXvfQFXXXXX1XpXXq6xXFXXX6/New-Arrival-True-Capacity-credit-card-model-16GB-USB-2-0-Memory-Stick-Flash-Pen-Drive.jpg_640x640.jpg\n",
            "[%] File Downloaded !\n",
            "\n",
            "[%] Downloading Image #49 from https://coolusbsticks.com/wp-content/uploads/2018/10/2121-a6b276.jpg\n",
            "[%] File Downloaded !\n",
            "\n",
            "[%] Downloading Image #50 from https://ae01.alicdn.com/kf/HTB1mt0mK7voK1RjSZFNq6AxMVXaV/true-capacity-Christmas-tree-usb-flash-drive-external-storage-4GB-8GB-16GB-32GB-64GB-USB-U.jpg_640x640.jpg\n",
            "[%] File Downloaded !\n",
            "\n",
            "[%] Downloading Image #51 from http://www.jempp.com.au/assets/images/products/therange/tr-usb8020.jpg\n",
            "[!] Issue getting: http://www.jempp.com.au/assets/images/products/therange/tr-usb8020.jpg\n",
            "[!] Error:: HTTP Error 404: Not Found\n",
            "[%] Downloading Image #51 from https://i.ebayimg.com/images/i/262801712129-0-1/s-l1000.jpg\n",
            "[%] File Downloaded !\n",
            "\n",
            "[%] Downloading Image #52 from https://coolusbsticks.com/wp-content/uploads/2018/10/2121-9f74e9.jpg\n",
            "[%] File Downloaded !\n",
            "\n",
            "[%] Downloading Image #53 from https://www.ssdsdirect.com/wp-content/uploads/2017/07/PCD-FLASHSSD-128GB-1024x1024.jpg\n",
            "[!] Issue getting: https://www.ssdsdirect.com/wp-content/uploads/2017/07/PCD-FLASHSSD-128GB-1024x1024.jpg\n",
            "[!] Error:: HTTP Error 404: Not Found\n",
            "[%] Downloading Image #53 from https://coolusbsticks.com/wp-content/uploads/2018/10/2121-abb8f0.jpg\n",
            "[%] File Downloaded !\n",
            "\n",
            "[%] Downloading Image #54 from https://i.pinimg.com/originals/74/bd/ce/74bdce82e1543074ea375fc1e0f9f966.jpg\n",
            "[%] File Downloaded !\n",
            "\n",
            "[%] Downloading Image #55 from https://www.dhresource.com/0x0/f2/albu/g9/M00/E9/49/rBVaWF3qLoyAWetHAAGNUuqgr3Y456.jpg/bulk-10pcs-16gb-usb-flash-drives-swivel-thumb.jpg\n",
            "[%] File Downloaded !\n",
            "\n",
            "[%] Downloading Image #56 from https://i.ebayimg.com/images/g/rDYAAOSwYNZau0Pf/s-l640.jpg\n",
            "[%] File Downloaded !\n",
            "\n",
            "[%] Downloading Image #57 from https://i.pinimg.com/originals/aa/dc/1f/aadc1f57bf1e3496196a9a85ea728c76.jpg\n",
            "[%] File Downloaded !\n",
            "\n",
            "[%] Downloading Image #58 from https://ae01.alicdn.com/kf/HTB1MP6bCh9YBuNjy0Ffq6xIsVXaN/Zombie-usb-flash-True-2GB-4GB-8GB-16GB-32GB-Plants-vs-Zombies-horror-USB-2-0.jpg\n",
            "[%] File Downloaded !\n",
            "\n",
            "[%] Downloading Image #59 from https://www.bhphotovideo.com/images/images2000x2000/HP_Hewlett_Packard_P_FD32GHP255_EF_32GB_v255w_USB_Flash_770235.jpg\n",
            "[%] File Downloaded !\n",
            "\n",
            "[%] Downloading Image #60 from https://cdn.hiconsumption.com/wp-content/uploads/2013/04/Transformer-USB-Flash-Drive.jpg\n",
            "[%] File Downloaded !\n",
            "\n",
            "[%] Downloading Image #61 from https://www.linksys.co.ke/wp-content/uploads/2019/11/64cr-1.jpg\n",
            "[%] File Downloaded !\n",
            "\n",
            "[%] Downloading Image #62 from https://i.pinimg.com/736x/8f/38/d4/8f38d4969c8a7fbaefbd6bc5e9e7bca3--usb-drive-hardware.jpg\n",
            "[%] File Downloaded !\n",
            "\n",
            "[%] Downloading Image #63 from http://image.dhgate.com/0x0/f2/albu/g1/M01/33/53/rBVaGVZlQOiATWBzAALuslDRk44642.jpg\n",
            "[%] File Downloaded !\n",
            "\n",
            "[%] Downloading Image #64 from https://ae01.alicdn.com/kf/HTB1.cBbg2NNTKJjSspcq6z4KVXal/XIWANG-100-True-Capacity-Unicorn-White-usb-Flash-Drive-4G-8G-16G-32G-64GB-Cute-White.jpg\n",
            "[%] File Downloaded !\n",
            "\n",
            "[%] Downloading Image #65 from https://coolusbsticks.com/wp-content/uploads/2018/10/2121-a08a0c.jpg\n",
            "[%] File Downloaded !\n",
            "\n",
            "[%] Downloading Image #66 from https://coolusbsticks.com/wp-content/uploads/2018/10/2121-ff74a6.jpg\n",
            "[%] File Downloaded !\n",
            "\n",
            "[%] Downloading Image #67 from https://ae01.alicdn.com/kf/HTB1uSykknqWBKNjSZFxq6ApLpXaX/Cartoon-Ass-usb-flash-drive-64gb-True-2GB-4GB-8GB-16GB-32GB-silicon-purple-donkey-cute.jpg\n",
            "[%] File Downloaded !\n",
            "\n",
            "[%] Downloading Image #68 from https://sc01.alicdn.com/kf/HTB1yJHofEl7MKJjSZFDq6yOEpXaO/6876445/HTB1yJHofEl7MKJjSZFDq6yOEpXaO.jpg\n",
            "[%] File Downloaded !\n",
            "\n",
            "\n",
            "\n",
            "[!!]Indexing page: 2\n",
            "\n",
            "[%] Indexed 35 Images on Page 2.\n",
            "\n",
            "===============================================\n",
            "\n",
            "[%] Downloading Image #69 from https://ae01.alicdn.com/kf/HTB1lkf6RpXXXXabXFXXq6xXFXXXT/pendrive-64GB-32GB-16GB-8GB-4GB-USB-flash-drive-stainless-steel-metal-100-true-capacity-Drives.jpg\n",
            "[%] File Downloaded !\n",
            "\n",
            "[%] Downloading Image #70 from https://image.pushauction.com/0/0/6cd44762-2eb6-460e-8e65-102d605f1126/c1f7c882-3bcd-488d-a764-1e9722fd8d60.jpg\n",
            "[%] File Downloaded !\n",
            "\n",
            "\n",
            "\n",
            "[%] Done. Downloaded 70 images.\n",
            "===============================================\n",
            "\n",
            "Please show your support here\n",
            "https://www.buymeacoffee.com/gurugaurav\n",
            "\n",
            "===============================================\n",
            "\n",
            "time: 20.7 s (started: 2021-06-28 11:06:37 +00:00)\n"
          ],
          "name": "stdout"
        }
      ]
    },
    {
      "cell_type": "code",
      "metadata": {
        "colab": {
          "base_uri": "https://localhost:8080/"
        },
        "id": "v_JhZQGj94b8",
        "outputId": "c676aa34-5a8a-4bf3-ad53-43226c8bbbbd"
      },
      "source": [
        "downloader.download(\"red rose\",limit = 70,output_dir = 'images',adult_filter_off = True)"
      ],
      "execution_count": 7,
      "outputs": [
        {
          "output_type": "stream",
          "text": [
            "[%] Downloading Images to /content/images/red rose\n",
            "\n",
            "\n",
            "[!!]Indexing page: 1\n",
            "\n",
            "[%] Indexed 70 Images on Page 1.\n",
            "\n",
            "===============================================\n",
            "\n",
            "[%] Downloading Image #1 from https://res.cloudinary.com/bloomnation/c_pad,d_vendor:global:catalog:product:image.png,f_auto,fl_preserve_transparency,q_auto/v1550550570/vendor/2961/catalog/product/2/0/20150124123713_file_54c391f9051a6.jpg\n",
            "[%] File Downloaded !\n",
            "\n",
            "[%] Downloading Image #2 from https://cdn11.bigcommerce.com/s-jxetu2nhyu/images/stencil/1280x1280/products/613/1434/20-V4S__90137.1579117758.jpg?c=2\n",
            "[%] File Downloaded !\n",
            "\n",
            "[%] Downloading Image #3 from https://i1.wp.com/entertainmentmesh.com/wp-content/uploads/2017/01/Red-roses.jpg\n",
            "[%] File Downloaded !\n",
            "\n",
            "[%] Downloading Image #4 from https://lindasflowers.com/wp-content/uploads/2019/12/20-v4p.jpg\n",
            "[%] File Downloaded !\n",
            "\n",
            "[%] Downloading Image #5 from https://asset.bloomnation.com/c_pad,d_vendor:global:catalog:product:image.png,f_auto,fl_preserve_transparency,q_auto/v1579055825/vendor/4960/catalog/product/2/0/20200110054813_file_5e18b8dd60087_5e18b92b68d0b_5e1e0a4e37043_5e1e0a4fee5d9.jpg\n",
            "[%] File Downloaded !\n",
            "\n",
            "[%] Downloading Image #6 from https://cdn.shopify.com/s/files/1/0012/4832/9781/products/50_red_roses.jpg?v=1566932952\n",
            "[%] File Downloaded !\n",
            "\n",
            "[%] Downloading Image #7 from https://cdn.shopify.com/s/files/1/2520/3892/products/WeChat_Image_20190122221148_530x@2x.jpg?v=1556692226\n",
            "[%] File Downloaded !\n",
            "\n",
            "[%] Downloading Image #8 from https://asset.bloomnation.com/c_limit,d_vendor:global:catalog:product:image.png,f_auto,fl_preserve_transparency,q_auto/v1597548691/vendor/1410/catalog/product/2/0/20190814054220_file_5d539f3ca34ee_5d539f4a407df.jpeg\n",
            "[%] File Downloaded !\n",
            "\n",
            "[%] Downloading Image #9 from https://i.pinimg.com/originals/88/c2/a5/88c2a53b01f776685e0febd2aed97d18.jpg\n",
            "[%] File Downloaded !\n",
            "\n",
            "[%] Downloading Image #10 from https://xoxoflowers.co.za/wp-content/uploads/2020/06/24-Red-Roses.jpg\n",
            "[%] File Downloaded !\n",
            "\n",
            "[%] Downloading Image #11 from https://asset.bloomnation.com/c_pad,d_vendor:global:catalog:product:image.png,f_auto,fl_preserve_transparency,q_auto/v1599308720/vendor/6617/catalog/product/2/0/20180705044125_file_5b3e4a3572d33.jpg\n",
            "[%] File Downloaded !\n",
            "\n",
            "[%] Downloading Image #12 from https://www.floralbash.ca/wp-content/uploads/2018/01/AdobeStock_88501905.jpeg\n",
            "[%] File Downloaded !\n",
            "\n",
            "[%] Downloading Image #13 from https://cdn.shopify.com/s/files/1/0012/4832/9781/products/50_red_roses_1.jpg?v=1566933976\n",
            "[%] File Downloaded !\n",
            "\n",
            "[%] Downloading Image #14 from https://i.pinimg.com/originals/c5/c8/d5/c5c8d597968fff866e6189c3c12f64b2.jpg\n",
            "[%] File Downloaded !\n",
            "\n",
            "[%] Downloading Image #15 from https://i.pinimg.com/originals/b7/33/e0/b733e0b36236ef31820b19b59219ee0a.jpg\n",
            "[%] File Downloaded !\n",
            "\n",
            "[%] Downloading Image #16 from https://live.staticflickr.com/8069/8193364735_d95e5db33b_b.jpg\n",
            "[%] File Downloaded !\n",
            "\n",
            "[%] Downloading Image #17 from https://i.pinimg.com/originals/86/16/55/861655a1a568b8fb600a7374c0644a50.jpg\n",
            "[%] File Downloaded !\n",
            "\n",
            "[%] Downloading Image #18 from http://farm5.staticflickr.com/4017/5151909013_44700dd42a_z.jpg\n",
            "[%] File Downloaded !\n",
            "\n",
            "[%] Downloading Image #19 from https://www.kremp.com/media/catalog/product/cache/1/image/9df78eab33525d08d6e5fb8d27136e95/t/r/true-romantic-red-rose-bqt-dx.jpg\n",
            "[%] File Downloaded !\n",
            "\n",
            "[%] Downloading Image #20 from https://i.pinimg.com/originals/08/f2/39/08f2395d70c98ad387783922776c87b1.jpg\n",
            "[%] File Downloaded !\n",
            "\n",
            "[%] Downloading Image #21 from https://live.staticflickr.com/7587/16739669608_23d1c13f1a_b.jpg\n",
            "[%] File Downloaded !\n",
            "\n",
            "[%] Downloading Image #22 from https://i.pinimg.com/originals/4f/25/08/4f2508f998ec187ee62e6c27ecc2ed2c.jpg\n",
            "[%] File Downloaded !\n",
            "\n",
            "[%] Downloading Image #23 from https://chantalfleuriste.com/wp-content/uploads/2020/01/20-V4D.jpeg\n",
            "[%] File Downloaded !\n",
            "\n",
            "[%] Downloading Image #24 from https://3.bp.blogspot.com/-jnI14eC3t_Q/TiRb8ROSvVI/AAAAAAAAArg/h77ps7Ugpq0/s400/red-rose_11078.jpg\n",
            "[%] File Downloaded !\n",
            "\n",
            "[%] Downloading Image #25 from https://i.pinimg.com/originals/3d/de/e2/3ddee24ef80cf1fce58777d8f145100a.jpg\n",
            "[%] File Downloaded !\n",
            "\n",
            "[%] Downloading Image #26 from https://i.pinimg.com/originals/21/da/e8/21dae863251cdfdaf1abd0b523531a43.jpg\n",
            "[%] File Downloaded !\n",
            "\n",
            "[%] Downloading Image #27 from https://i.pinimg.com/originals/63/2e/1e/632e1e35a49f83c0e0e8a8d0d160c3fb.jpg\n",
            "[%] File Downloaded !\n",
            "\n",
            "[%] Downloading Image #28 from https://asset.bloomnation.com/c_limit,d_vendor:global:catalog:product:image.png,f_auto,fl_preserve_transparency,q_auto/v1535581277/vendor/320/catalog/product/2/0/20170406012316_file_58e64144dd21f.jpg\n",
            "[%] File Downloaded !\n",
            "\n",
            "[%] Downloading Image #29 from https://i.pinimg.com/originals/c3/eb/f4/c3ebf4ce92e34d0f260675b025746555.jpg\n",
            "[%] File Downloaded !\n",
            "\n",
            "[%] Downloading Image #30 from https://i.pinimg.com/originals/3b/3b/15/3b3b152ac8b643a5bc26c0773646f8ff.jpg\n",
            "[%] File Downloaded !\n",
            "\n",
            "[%] Downloading Image #31 from https://bestflowerdelivery.co.uk/wp-content/uploads/2020/05/True-Romance-12-Red-Roses.jpg\n",
            "[%] File Downloaded !\n",
            "\n",
            "[%] Downloading Image #32 from https://i.pinimg.com/originals/5a/db/b0/5adbb0754e0381c89372964f6b908242.jpg\n",
            "[%] File Downloaded !\n",
            "\n",
            "[%] Downloading Image #33 from https://hips.hearstapps.com/wdy.h-cdn.co/assets/18/02/1515696895-red-roses.jpg?crop=1.0xw:1xh;center,top&amp;resize=768:*\n",
            "[%] File Downloaded !\n",
            "\n",
            "[%] Downloading Image #34 from https://angkorflowers.com.au/wp-content/uploads/2021/02/True-love12-premium-red-roses-VA12-H-600x563.jpg\n",
            "[%] File Downloaded !\n",
            "\n",
            "[%] Downloading Image #35 from https://xoxoflowers.co.za/wp-content/uploads/2020/06/100-Red-Roses.jpg\n",
            "[%] File Downloaded !\n",
            "\n",
            "[%] Downloading Image #36 from https://asset.bloomnation.com/c_pad,d_vendor:global:catalog:product:image.png,f_auto,fl_preserve_transparency,q_auto/v1605407376/vendor/7629/catalog/product/b/6/b699c15ac2558b6e45b2acb5d7823949_5dc106e955109.jpg\n",
            "[%] File Downloaded !\n",
            "\n",
            "[%] Downloading Image #37 from http://www.hdwallpaperspulse.com/wp-content/uploads/2020/09/true-love-red-rose-image.jpg\n",
            "[%] File Downloaded !\n",
            "\n",
            "[%] Downloading Image #38 from https://assets.flowerstore.ph/uploads/products/photos/ZH2Ynh28yrkONX09xVBJpJbSwzOmusmXFxoZYenN.jpeg\n",
            "[%] File Downloaded !\n",
            "\n",
            "[%] Downloading Image #39 from https://res.cloudinary.com/bloomnation/c_pad,d_vendor:global:catalog:product:image.png,f_auto,fl_preserve_transparency,q_auto/v1525394843/vendor/2473/catalog/product/2/0/20180209114424_file_5a7e325807be1.jpg\n",
            "[%] File Downloaded !\n",
            "\n",
            "[%] Downloading Image #40 from https://s-media-cache-ak0.pinimg.com/736x/43/75/5c/43755cc23d594b0fa00fed74f6d30839.jpg\n",
            "[%] File Downloaded !\n",
            "\n",
            "[%] Downloading Image #41 from https://i.pinimg.com/originals/e2/0a/47/e20a47ea8ea04c0dc595115584c4c431.jpg\n",
            "[%] File Downloaded !\n",
            "\n",
            "[%] Downloading Image #42 from https://www.holex.com/wp-content/uploads/2018/12/spray-rose-pushkin-1-1024x1024.jpg\n",
            "[%] File Downloaded !\n",
            "\n",
            "[%] Downloading Image #43 from https://www.williamsflowers.com/assets/inc/timthumb.php?src=https://f7e8d318f31623d72821-e86e8b8e4ccf82238b56398cba8fe354.ssl.cf2.rackcdn.com/2-Dozen-Mixed-Roses.jpg&amp;w=800&amp;h=800&amp;zc=2\n",
            "[Error]Invalid image, not saving https://www.williamsflowers.com/assets/inc/timthumb.php?src=https://f7e8d318f31623d72821-e86e8b8e4ccf82238b56398cba8fe354.ssl.cf2.rackcdn.com/2-Dozen-Mixed-Roses.jpg&amp;w=800&amp;h=800&amp;zc=2\n",
            "\n",
            "[!] Issue getting: https://www.williamsflowers.com/assets/inc/timthumb.php?src=https://f7e8d318f31623d72821-e86e8b8e4ccf82238b56398cba8fe354.ssl.cf2.rackcdn.com/2-Dozen-Mixed-Roses.jpg&amp;w=800&amp;h=800&amp;zc=2\n",
            "[!] Error:: Invalid image, not saving https://www.williamsflowers.com/assets/inc/timthumb.php?src=https://f7e8d318f31623d72821-e86e8b8e4ccf82238b56398cba8fe354.ssl.cf2.rackcdn.com/2-Dozen-Mixed-Roses.jpg&amp;w=800&amp;h=800&amp;zc=2\n",
            "\n",
            "[%] Downloading Image #43 from http://arrayofgifts.com/wp-content/uploads/2018/10/True-Love-Red-Roses-Houston-Pearland-Tx-Florist-Valentine-Flowers-Delivery-scaled-600x864.jpg\n",
            "[Error]Invalid image, not saving http://arrayofgifts.com/wp-content/uploads/2018/10/True-Love-Red-Roses-Houston-Pearland-Tx-Florist-Valentine-Flowers-Delivery-scaled-600x864.jpg\n",
            "\n",
            "[!] Issue getting: http://arrayofgifts.com/wp-content/uploads/2018/10/True-Love-Red-Roses-Houston-Pearland-Tx-Florist-Valentine-Flowers-Delivery-scaled-600x864.jpg\n",
            "[!] Error:: Invalid image, not saving http://arrayofgifts.com/wp-content/uploads/2018/10/True-Love-Red-Roses-Houston-Pearland-Tx-Florist-Valentine-Flowers-Delivery-scaled-600x864.jpg\n",
            "\n",
            "[%] Downloading Image #43 from http://www.thewateringhole.org.uk/wp-content/uploads/2015/02/red-rose-320868_1280.jpg\n",
            "[%] File Downloaded !\n",
            "\n",
            "[%] Downloading Image #44 from https://thumbs.dreamstime.com/z/amor-tierno-y-pasajero-rosa-red-153250852.jpg\n",
            "[%] File Downloaded !\n",
            "\n",
            "[%] Downloading Image #45 from http://3.bp.blogspot.com/-oAt917n6e-g/SSAxo0l7xoI/AAAAAAAAAGc/Q4-xNcp2BYU/w1200-h630-p-k-no-nu/Red+Rose+for+True+Love+Forever.jpg\n",
            "[%] File Downloaded !\n",
            "\n",
            "[%] Downloading Image #46 from https://i.pinimg.com/originals/f0/c5/84/f0c584aa159db4b1ffc735a1d50ee878.jpg\n",
            "[%] File Downloaded !\n",
            "\n",
            "[%] Downloading Image #47 from https://i.pinimg.com/originals/24/00/14/2400146fa5055b0ffff102976e1472ea.jpg\n",
            "[%] File Downloaded !\n",
            "\n",
            "[%] Downloading Image #48 from https://i.etsystatic.com/9399324/r/il/b7f2db/864960373/il_fullxfull.864960373_9asj.jpg\n",
            "[%] File Downloaded !\n",
            "\n",
            "[%] Downloading Image #49 from https://i.pinimg.com/originals/77/3e/61/773e61b32f5d6051b214392aebc1b6ab.jpg\n",
            "[%] File Downloaded !\n",
            "\n",
            "[%] Downloading Image #50 from https://i.etsystatic.com/5387610/r/il/1d415a/159982715/il_794xN.159982715.jpg\n",
            "[%] File Downloaded !\n",
            "\n",
            "[%] Downloading Image #51 from http://s7d2.scene7.com/is/image/Teleflora/T400-3B?&amp;wid=890&amp;hei=1100&amp;fmt=jpeg&amp;qlt=80,0&amp;op_sharpen=0&amp;resMode=bilin&amp;op_usm=3.0,0.5,1.0,0&amp;iccEmbed=0&amp;layer=1&amp;opac=0&amp;layer=2&amp;opac=55&amp;layer=5&amp;opac=0&amp;layer=3&amp;opac=0\n",
            "[%] File Downloaded !\n",
            "\n",
            "[%] Downloading Image #52 from https://i.pinimg.com/originals/23/10/15/2310150b7c911043712cd3f2437fa583.jpg\n",
            "[%] File Downloaded !\n",
            "\n",
            "[%] Downloading Image #53 from https://i.pinimg.com/originals/8a/ce/2e/8ace2ee47ad4e8b6ef071ef7bdab022f.jpg\n",
            "[%] File Downloaded !\n",
            "\n",
            "[%] Downloading Image #54 from https://i.pinimg.com/originals/b8/17/b2/b817b2658eca26560ebceecc5c8a067e.png\n",
            "[%] File Downloaded !\n",
            "\n",
            "[%] Downloading Image #55 from https://i.pinimg.com/736x/c3/88/0d/c3880de3e7d85c963d6254185cac9d5e.jpg\n",
            "[%] File Downloaded !\n",
            "\n",
            "[%] Downloading Image #56 from https://coastalflora.com/wp-content/uploads/2020/06/Dozen_red-rose-scaled.jpg\n",
            "[%] File Downloaded !\n",
            "\n",
            "[%] Downloading Image #57 from https://i.pinimg.com/originals/52/62/26/526226a849a1e5bf9c53f9b7afebe1aa.jpg\n",
            "[%] File Downloaded !\n",
            "\n",
            "[%] Downloading Image #58 from https://williamsflowers.com/assets/inc/timthumb.php?q=80&amp;src=https://f7e8d318f31623d72821-e86e8b8e4ccf82238b56398cba8fe354.ssl.cf2.rackcdn.com/Breathtaking-Beauty.jpg&amp;w=800&amp;h=800&amp;zc=2\n",
            "[Error]Invalid image, not saving https://williamsflowers.com/assets/inc/timthumb.php?q=80&amp;src=https://f7e8d318f31623d72821-e86e8b8e4ccf82238b56398cba8fe354.ssl.cf2.rackcdn.com/Breathtaking-Beauty.jpg&amp;w=800&amp;h=800&amp;zc=2\n",
            "\n",
            "[!] Issue getting: https://williamsflowers.com/assets/inc/timthumb.php?q=80&amp;src=https://f7e8d318f31623d72821-e86e8b8e4ccf82238b56398cba8fe354.ssl.cf2.rackcdn.com/Breathtaking-Beauty.jpg&amp;w=800&amp;h=800&amp;zc=2\n",
            "[!] Error:: Invalid image, not saving https://williamsflowers.com/assets/inc/timthumb.php?q=80&amp;src=https://f7e8d318f31623d72821-e86e8b8e4ccf82238b56398cba8fe354.ssl.cf2.rackcdn.com/Breathtaking-Beauty.jpg&amp;w=800&amp;h=800&amp;zc=2\n",
            "\n",
            "[%] Downloading Image #58 from https://i.etsystatic.com/5996400/r/il/96b1dd/462994610/il_794xN.462994610_af0a.jpg\n",
            "[%] File Downloaded !\n",
            "\n",
            "[%] Downloading Image #59 from https://isteam.wsimg.com/ip/30fd0f54-66be-11e4-a882-14feb5d39fb2/ols/736_original/:/rs=w:600,h:600\n",
            "[Error]Invalid image, not saving https://isteam.wsimg.com/ip/30fd0f54-66be-11e4-a882-14feb5d39fb2/ols/736_original/:/rs=w:600,h:600\n",
            "\n",
            "[!] Issue getting: https://isteam.wsimg.com/ip/30fd0f54-66be-11e4-a882-14feb5d39fb2/ols/736_original/:/rs=w:600,h:600\n",
            "[!] Error:: Invalid image, not saving https://isteam.wsimg.com/ip/30fd0f54-66be-11e4-a882-14feb5d39fb2/ols/736_original/:/rs=w:600,h:600\n",
            "\n",
            "[%] Downloading Image #59 from http://4.bp.blogspot.com/-Y1f73NeH4hw/TiRb7rlOtnI/AAAAAAAAArc/HTJeyf2d_TQ/s400/800px-Rosa_chinensis.jpg\n",
            "[%] File Downloaded !\n",
            "\n",
            "[%] Downloading Image #60 from https://cdn1.bigcommerce.com/server3600/74756/products/3776/images/4176/My_True_Love__00431.1423337055.1280.1280.jpg?c=2\n",
            "[%] File Downloaded !\n",
            "\n",
            "[%] Downloading Image #61 from https://i.pinimg.com/originals/f9/f9/e9/f9f9e9ac69fcfb7edce6fefa7d8bcb39.jpg\n",
            "[%] File Downloaded !\n",
            "\n",
            "[%] Downloading Image #62 from http://i.ebayimg.com/images/i/282461230936-0-1/s-l1000.jpg\n",
            "[%] File Downloaded !\n",
            "\n",
            "[%] Downloading Image #63 from https://i.pinimg.com/originals/a8/c3/26/a8c326c953d2593e3eefd003f0b613a5.jpg\n",
            "[%] File Downloaded !\n",
            "\n",
            "[%] Downloading Image #64 from https://assets.winni.in/c_limit,dpr_1,fl_progressive,q_80,w_1000/35784_true-love-red-roses-bunch.jpeg\n",
            "[%] File Downloaded !\n",
            "\n",
            "[%] Downloading Image #65 from https://www.clareflorist.co.uk/images/product/true-romance-new-lifestyle-2.jpg\n",
            "[%] File Downloaded !\n",
            "\n",
            "[%] Downloading Image #66 from https://i.etsystatic.com/9399324/r/il/11ab6f/864960827/il_fullxfull.864960827_l8nq.jpg\n",
            "[%] File Downloaded !\n",
            "\n",
            "\n",
            "\n",
            "[!!]Indexing page: 2\n",
            "\n",
            "[%] Indexed 35 Images on Page 2.\n",
            "\n",
            "===============================================\n",
            "\n",
            "[%] Downloading Image #67 from https://res.cloudinary.com/bloomnation/c_pad,d_vendor:global:catalog:product:image.png,f_auto,fl_preserve_transparency,q_auto/v1550550570/vendor/2961/catalog/product/2/0/20150124123713_file_54c391f9051a6.jpg\n",
            "[%] File Downloaded !\n",
            "\n",
            "[%] Downloading Image #68 from https://cdn11.bigcommerce.com/s-jxetu2nhyu/images/stencil/1280x1280/products/613/1434/20-V4S__90137.1579117758.jpg?c=2\n",
            "[%] File Downloaded !\n",
            "\n",
            "[%] Downloading Image #69 from https://i1.wp.com/entertainmentmesh.com/wp-content/uploads/2017/01/Red-roses.jpg\n",
            "[%] File Downloaded !\n",
            "\n",
            "[%] Downloading Image #70 from https://lindasflowers.com/wp-content/uploads/2019/12/20-v4p.jpg\n",
            "[%] File Downloaded !\n",
            "\n",
            "\n",
            "\n",
            "[%] Done. Downloaded 70 images.\n",
            "===============================================\n",
            "\n",
            "Please show your support here\n",
            "https://www.buymeacoffee.com/gurugaurav\n",
            "\n",
            "===============================================\n",
            "\n",
            "time: 17.1 s (started: 2021-06-28 11:06:57 +00:00)\n"
          ],
          "name": "stdout"
        }
      ]
    },
    {
      "cell_type": "code",
      "metadata": {
        "id": "-inqqxXpyhtF",
        "colab": {
          "base_uri": "https://localhost:8080/"
        },
        "outputId": "66f09370-9920-4212-f818-977080cd2559"
      },
      "source": [
        "#Preprocessing\n",
        "\n",
        "import os\n",
        "import matplotlib.pyplot as plt\n",
        "import numpy as np\n",
        "from skimage.io import imread # for reading\n",
        "from skimage.transform import resize  # for resizing\n",
        "\n",
        "target  = []\n",
        "images = []\n",
        "flat_data = []\n",
        "DATADIR = '/content/images'\n",
        "Categories = ['digital camera','usb flash drive','red rose']\n",
        "for category in Categories:\n",
        "  class_num = Categories.index(category) # Label encoding the values\n",
        "  path = os.path.join(DATADIR,category) # Create path to use all the images\n",
        "  for img in os.listdir(path):\n",
        "    img_array = imread(os.path.join(path,img))\n",
        "    img_resized = resize(img_array,(150,150,3)) # Normalizes the value from 0 to 1\n",
        "    flat_data.append(img_resized.flatten())\n",
        "    images.append(img_resized)\n",
        "    target.append(class_num)\n",
        "\n",
        "flat_data = np.array(flat_data)\n",
        "target = np.array(target)\n",
        "images = np.array(images)\n"
      ],
      "execution_count": 8,
      "outputs": [
        {
          "output_type": "stream",
          "text": [
            "time: 1min 56s (started: 2021-06-28 11:07:15 +00:00)\n"
          ],
          "name": "stdout"
        }
      ]
    },
    {
      "cell_type": "code",
      "metadata": {
        "colab": {
          "base_uri": "https://localhost:8080/"
        },
        "id": "XuGI1zUwzmva",
        "outputId": "8cba899a-7702-4223-de68-50b66423d30c"
      },
      "source": [
        "len(flat_data[0])"
      ],
      "execution_count": 9,
      "outputs": [
        {
          "output_type": "execute_result",
          "data": {
            "text/plain": [
              "67500"
            ]
          },
          "metadata": {
            "tags": []
          },
          "execution_count": 9
        },
        {
          "output_type": "stream",
          "text": [
            "time: 5.62 ms (started: 2021-06-28 11:09:11 +00:00)\n"
          ],
          "name": "stdout"
        }
      ]
    },
    {
      "cell_type": "code",
      "metadata": {
        "colab": {
          "base_uri": "https://localhost:8080/"
        },
        "id": "0q_Tp3Hmva6-",
        "outputId": "0d44f124-8a32-4f01-9d57-5481214fc55b"
      },
      "source": [
        "len(target)\n"
      ],
      "execution_count": 10,
      "outputs": [
        {
          "output_type": "execute_result",
          "data": {
            "text/plain": [
              "229"
            ]
          },
          "metadata": {
            "tags": []
          },
          "execution_count": 10
        },
        {
          "output_type": "stream",
          "text": [
            "time: 3.57 ms (started: 2021-06-28 11:09:11 +00:00)\n"
          ],
          "name": "stdout"
        }
      ]
    },
    {
      "cell_type": "code",
      "metadata": {
        "colab": {
          "base_uri": "https://localhost:8080/",
          "height": 299
        },
        "id": "PjQA3BRd2I13",
        "outputId": "f02d99f9-d29d-4743-bdc6-a7d0e49af9dc"
      },
      "source": [
        "unique,count = np.unique(target,return_counts=True)\n",
        "plt.bar(Categories,count)"
      ],
      "execution_count": 11,
      "outputs": [
        {
          "output_type": "execute_result",
          "data": {
            "text/plain": [
              "<BarContainer object of 3 artists>"
            ]
          },
          "metadata": {
            "tags": []
          },
          "execution_count": 11
        },
        {
          "output_type": "display_data",
          "data": {
            "image/png": "[encoded data removed]",
            "text/plain": [
              "<Figure size 432x288 with 1 Axes>"
            ]
          },
          "metadata": {
            "tags": [],
            "needs_background": "light"
          }
        },
        {
          "output_type": "stream",
          "text": [
            "time: 155 ms (started: 2021-06-28 11:09:11 +00:00)\n"
          ],
          "name": "stdout"
        }
      ]
    },
    {
      "cell_type": "code",
      "metadata": {
        "colab": {
          "base_uri": "https://localhost:8080/"
        },
        "id": "JJQXY3hB3V10",
        "outputId": "c11933fe-0be8-4d8e-c79b-8ce7070edbae"
      },
      "source": [
        "#Split data into Training and testing\n",
        "from sklearn.model_selection import train_test_split"
      ],
      "execution_count": 12,
      "outputs": [
        {
          "output_type": "stream",
          "text": [
            "time: 208 ms (started: 2021-06-28 11:09:11 +00:00)\n"
          ],
          "name": "stdout"
        }
      ]
    },
    {
      "cell_type": "code",
      "metadata": {
        "colab": {
          "base_uri": "https://localhost:8080/"
        },
        "id": "KHTtQ4fz4jGP",
        "outputId": "41efe7bd-4c79-4650-ae14-b6d71e048504"
      },
      "source": [
        "x_train,x_test,y_train,y_test = train_test_split(flat_data,target,test_size = 0.3,random_state = 204)"
      ],
      "execution_count": 13,
      "outputs": [
        {
          "output_type": "stream",
          "text": [
            "time: 51.4 ms (started: 2021-06-28 11:09:11 +00:00)\n"
          ],
          "name": "stdout"
        }
      ]
    },
    {
      "cell_type": "code",
      "metadata": {
        "colab": {
          "base_uri": "https://localhost:8080/"
        },
        "id": "R3tyzfc04zGy",
        "outputId": "1458d0c0-d349-49f7-99c9-1a3cfc99372b"
      },
      "source": [
        "from sklearn.model_selection import GridSearchCV\n",
        "from sklearn import svm\n",
        "param_grid = [\n",
        "              {'C':[1,10,100,1000],'kernel':['linear']},\n",
        "              {'C':[1,10,100,1000],'gamma':[0.001,0.0001],'kernel':['rbf']}\n",
        "]\n",
        "svc = svm.SVC(probability=True)\n",
        "clf = GridSearchCV(svc,param_grid)\n",
        "clf.fit(x_train,y_train)"
      ],
      "execution_count": 14,
      "outputs": [
        {
          "output_type": "execute_result",
          "data": {
            "text/plain": [
              "GridSearchCV(cv=None, error_score=nan,\n",
              "             estimator=SVC(C=1.0, break_ties=False, cache_size=200,\n",
              "                           class_weight=None, coef0=0.0,\n",
              "                           decision_function_shape='ovr', degree=3,\n",
              "                           gamma='scale', kernel='rbf', max_iter=-1,\n",
              "                           probability=True, random_state=None, shrinking=True,\n",
              "                           tol=0.001, verbose=False),\n",
              "             iid='deprecated', n_jobs=None,\n",
              "             param_grid=[{'C': [1, 10, 100, 1000], 'kernel': ['linear']},\n",
              "                         {'C': [1, 10, 100, 1000], 'gamma': [0.001, 0.0001],\n",
              "                          'kernel': ['rbf']}],\n",
              "             pre_dispatch='2*n_jobs', refit=True, return_train_score=False,\n",
              "             scoring=None, verbose=0)"
            ]
          },
          "metadata": {
            "tags": []
          },
          "execution_count": 14
        },
        {
          "output_type": "stream",
          "text": [
            "time: 11min 23s (started: 2021-06-28 11:09:11 +00:00)\n"
          ],
          "name": "stdout"
        }
      ]
    },
    {
      "cell_type": "code",
      "metadata": {
        "colab": {
          "base_uri": "https://localhost:8080/"
        },
        "id": "HkCHJiKTKjD2",
        "outputId": "7a5fca85-72c8-46b4-c04d-1045b9572ee9"
      },
      "source": [
        "y_pred = clf.predict(x_test)\n",
        "y_pred"
      ],
      "execution_count": 15,
      "outputs": [
        {
          "output_type": "execute_result",
          "data": {
            "text/plain": [
              "array([2, 0, 0, 0, 1, 1, 0, 2, 0, 0, 2, 1, 0, 2, 0, 2, 0, 1, 0, 2, 1, 0,\n",
              "       0, 2, 1, 0, 0, 2, 1, 0, 1, 1, 2, 0, 1, 0, 1, 1, 2, 2, 2, 2, 2, 0,\n",
              "       2, 2, 2, 1, 2, 1, 2, 2, 0, 0, 1, 0, 0, 2, 1, 0, 1, 1, 1, 1, 0, 0,\n",
              "       1, 2, 0])"
            ]
          },
          "metadata": {
            "tags": []
          },
          "execution_count": 15
        },
        {
          "output_type": "stream",
          "text": [
            "time: 1.03 s (started: 2021-06-28 11:20:35 +00:00)\n"
          ],
          "name": "stdout"
        }
      ]
    },
    {
      "cell_type": "code",
      "metadata": {
        "colab": {
          "base_uri": "https://localhost:8080/"
        },
        "id": "L4Bj8XrMLYh4",
        "outputId": "0806bf88-aa33-4d3e-f620-6ecb3134f2b4"
      },
      "source": [
        "y_test"
      ],
      "execution_count": 16,
      "outputs": [
        {
          "output_type": "execute_result",
          "data": {
            "text/plain": [
              "array([2, 0, 0, 0, 1, 1, 0, 2, 2, 2, 2, 1, 0, 2, 0, 2, 1, 1, 0, 2, 1, 0,\n",
              "       0, 2, 0, 1, 0, 2, 0, 0, 1, 1, 2, 1, 1, 0, 0, 1, 2, 2, 1, 0, 2, 0,\n",
              "       2, 2, 2, 1, 2, 1, 2, 2, 0, 0, 0, 0, 2, 2, 2, 1, 1, 1, 1, 1, 0, 1,\n",
              "       2, 0, 1])"
            ]
          },
          "metadata": {
            "tags": []
          },
          "execution_count": 16
        },
        {
          "output_type": "stream",
          "text": [
            "time: 6.16 ms (started: 2021-06-28 11:20:36 +00:00)\n"
          ],
          "name": "stdout"
        }
      ]
    },
    {
      "cell_type": "code",
      "metadata": {
        "colab": {
          "base_uri": "https://localhost:8080/"
        },
        "id": "KOFLLdSLLaz1",
        "outputId": "f6d08ce4-e1e6-49cc-e2c5-272ef4d25e91"
      },
      "source": [
        "from sklearn.metrics import accuracy_score,confusion_matrix"
      ],
      "execution_count": 17,
      "outputs": [
        {
          "output_type": "stream",
          "text": [
            "time: 772 µs (started: 2021-06-28 11:20:36 +00:00)\n"
          ],
          "name": "stdout"
        }
      ]
    },
    {
      "cell_type": "code",
      "metadata": {
        "colab": {
          "base_uri": "https://localhost:8080/"
        },
        "id": "JgLBxOwbL3J9",
        "outputId": "b0e25660-17a2-421e-8a12-a637ea1b245c"
      },
      "source": [
        "accuracy_score(y_pred,y_test)"
      ],
      "execution_count": 18,
      "outputs": [
        {
          "output_type": "execute_result",
          "data": {
            "text/plain": [
              "0.7391304347826086"
            ]
          },
          "metadata": {
            "tags": []
          },
          "execution_count": 18
        },
        {
          "output_type": "stream",
          "text": [
            "time: 8.79 ms (started: 2021-06-28 11:20:36 +00:00)\n"
          ],
          "name": "stdout"
        }
      ]
    },
    {
      "cell_type": "code",
      "metadata": {
        "id": "sSWEkwkoNjGG",
        "colab": {
          "base_uri": "https://localhost:8080/"
        },
        "outputId": "8e385e02-2bc1-4826-84cc-3ab4c2d3ebe7"
      },
      "source": [
        "confusion_matrix(y_pred,y_test)"
      ],
      "execution_count": 19,
      "outputs": [
        {
          "output_type": "execute_result",
          "data": {
            "text/plain": [
              "array([[17,  6,  3],\n",
              "       [ 4, 15,  2],\n",
              "       [ 2,  1, 19]])"
            ]
          },
          "metadata": {
            "tags": []
          },
          "execution_count": 19
        },
        {
          "output_type": "stream",
          "text": [
            "time: 6.99 ms (started: 2021-06-28 11:20:36 +00:00)\n"
          ],
          "name": "stdout"
        }
      ]
    },
    {
      "cell_type": "code",
      "metadata": {
        "colab": {
          "base_uri": "https://localhost:8080/"
        },
        "id": "q3LvuqJVNrcH",
        "outputId": "5946fc14-9f00-45cc-bbd1-c0cfd599ab11"
      },
      "source": [
        "# Save the model using Pickle library\n",
        "import pickle\n",
        "pickle.dump(clf,open('img_model.p','wb'))"
      ],
      "execution_count": 20,
      "outputs": [
        {
          "output_type": "stream",
          "text": [
            "time: 152 ms (started: 2021-06-28 11:20:36 +00:00)\n"
          ],
          "name": "stdout"
        }
      ]
    },
    {
      "cell_type": "code",
      "metadata": {
        "colab": {
          "base_uri": "https://localhost:8080/"
        },
        "id": "Rf5wM48sOYTc",
        "outputId": "80b7a20d-8ce3-4cf5-b96c-131a2af3aa6c"
      },
      "source": [
        "model = pickle.load(open('img_model.p','rb'))"
      ],
      "execution_count": 21,
      "outputs": [
        {
          "output_type": "stream",
          "text": [
            "time: 98.2 ms (started: 2021-06-28 11:20:37 +00:00)\n"
          ],
          "name": "stdout"
        }
      ]
    },
    {
      "cell_type": "code",
      "metadata": {
        "colab": {
          "base_uri": "https://localhost:8080/",
          "height": 357
        },
        "id": "hvGA66QfPgM7",
        "outputId": "3eef2dc7-84c3-4af3-ffbc-4f036ae57b92"
      },
      "source": [
        "# Testing  brand new image\n",
        "flat_data = []\n",
        "url = input('Enter your URL')\n",
        "img = imread(url)\n",
        "img_resized = resize(img,(150,150,3))\n",
        "flat_data.append(img_resized.flatten())\n",
        "flat_data = np.array(flat_data)\n",
        "print(img.shape)\n",
        "plt.imshow(img_resized)\n",
        "y_out = model.predict(flat_data)\n",
        "y_out = Categories[y_out[0]]\n",
        "print(f'PREDICTED OUTPUT:{y_out}')"
      ],
      "execution_count": 22,
      "outputs": [
        {
          "output_type": "stream",
          "text": [
            "Enter your URLhttps://www.xstra.eu/resize/uv220-black-3_5057512564258.jpg/0/1100/True/32gb-usb-flash-disk-drive-usb-20-auv220-capless-sliding-usb-flash-drive-black-blue-3.jpg\n",
            "(702, 806, 3)\n",
            "PREDICTED OUTPUT:usb flash drive\n"
          ],
          "name": "stdout"
        },
        {
          "output_type": "display_data",
          "data": {
            "image/png": "[encoded data removed]",
            "text/plain": [
              "<Figure size 432x288 with 1 Axes>"
            ]
          },
          "metadata": {
            "tags": [],
            "needs_background": "light"
          }
        },
        {
          "output_type": "stream",
          "text": [
            "time: 2min 22s (started: 2021-06-28 11:20:37 +00:00)\n"
          ],
          "name": "stdout"
        }
      ]
    },
    {
      "cell_type": "code",
      "metadata": {
        "id": "xUheFotdcWT8",
        "colab": {
          "base_uri": "https://localhost:8080/"
        },
        "outputId": "be723052-8120-4ab0-da23-4987f22a1291"
      },
      "source": [
        "#Deployment :\n",
        "#1.Webpage - HTML/CSS/JS - Flask/Django\n",
        "#2. WebApp - Streamlit/Dash\n",
        "#3. Mobile App - Kotlin/Java"
      ],
      "execution_count": 23,
      "outputs": [
        {
          "output_type": "stream",
          "text": [
            "time: 1.25 ms (started: 2021-06-28 11:22:59 +00:00)\n"
          ],
          "name": "stdout"
        }
      ]
    },
    {
      "cell_type": "code",
      "metadata": {
        "colab": {
          "base_uri": "https://localhost:8080/"
        },
        "id": "fAp9nXmjkHia",
        "outputId": "b5b72953-71d3-4470-ead4-b912c3115ce9"
      },
      "source": [
        "!pip install streamlit --quiet\n",
        "!pip install pyngrok==4.1.1 --quiet\n",
        "from pyngrok import ngrok\n"
      ],
      "execution_count": 24,
      "outputs": [
        {
          "output_type": "stream",
          "text": [
            "\u001b[K     |████████████████████████████████| 7.8MB 21.5MB/s \n",
            "\u001b[K     |████████████████████████████████| 81kB 10.7MB/s \n",
            "\u001b[K     |████████████████████████████████| 112kB 49.6MB/s \n",
            "\u001b[K     |████████████████████████████████| 4.2MB 38.4MB/s \n",
            "\u001b[K     |████████████████████████████████| 174kB 52.8MB/s \n",
            "\u001b[K     |████████████████████████████████| 122kB 46.8MB/s \n",
            "\u001b[K     |████████████████████████████████| 71kB 10.4MB/s \n",
            "\u001b[?25h  Building wheel for blinker (setup.py) ... \u001b[?25l\u001b[?25hdone\n",
            "\u001b[31mERROR: google-colab 1.0.0 has requirement ipykernel~=4.10, but you'll have ipykernel 5.5.5 which is incompatible.\u001b[0m\n",
            "  Building wheel for pyngrok (setup.py) ... \u001b[?25l\u001b[?25hdone\n",
            "time: 19.3 s (started: 2021-06-28 11:22:59 +00:00)\n"
          ],
          "name": "stdout"
        }
      ]
    },
    {
      "cell_type": "code",
      "metadata": {
        "colab": {
          "base_uri": "https://localhost:8080/"
        },
        "id": "xdZSmjFAkI62",
        "outputId": "24fa50e1-818f-4079-fba8-66df296fe406"
      },
      "source": [
        "%%writefile app.py\n",
        "import streamlit as st\n",
        "import numpy as np\n",
        "from skimage.io import imread \n",
        "from skimage.transform import resize\n",
        "import pickle\n",
        "from PIL import Image\n",
        "\n",
        "st.title(\"Image Classification using Machine Learning\")\n",
        "st.text('Upload the image')\n",
        "model = model = pickle.load(open('img_model.p','rb'))\n",
        "uploaded_file = st.file_uploader(\"Choose an image....\",type=\"jpg\")\n",
        "if uploaded_file is not None:\n",
        "  img = Image.open(uploaded_file)\n",
        "  st.image(img,caption='Uploaded Image')\n",
        "\n",
        "  if st.button('Predict'):\n",
        "    Categories = ['digital camera','usb flash drive','red rose']\n",
        "    st.write('Result......')\n",
        "    flat_data =[]\n",
        "    img = np.array(img)\n",
        "    img_resized = resize(img,(150,150,3))\n",
        "    flat_data.append(img_resized.flatten())\n",
        "    flat_data = np.array(flat_data)\n",
        "    y_out = model.predict(flat_data)\n",
        "    y_out = Categories[y_out[0]]\n",
        "    st.title(f'PREDICTED OUTPUT:{y_out}')\n",
        "    q = model.predict_proba(flat_data)\n",
        "    for index, item in enumerate(Categories):\n",
        "      st.write(f'{item} : {q[0][index]*100}')\n"
      ],
      "execution_count": 25,
      "outputs": [
        {
          "output_type": "stream",
          "text": [
            "Writing app.py\n",
            "time: 3.91 ms (started: 2021-06-28 11:23:19 +00:00)\n"
          ],
          "name": "stdout"
        }
      ]
    },
    {
      "cell_type": "code",
      "metadata": {
        "colab": {
          "base_uri": "https://localhost:8080/",
          "height": 52
        },
        "id": "ewsMfeNolJq_",
        "outputId": "0a68e26f-8e4e-4927-c2bd-cb959d4a7553"
      },
      "source": [
        "!nohup streamlit run app.py &\n",
        "url = ngrok.connect(port = '8501')\n",
        "url"
      ],
      "execution_count": 26,
      "outputs": [
        {
          "output_type": "stream",
          "text": [
            "nohup: appending output to 'nohup.out'\n"
          ],
          "name": "stdout"
        },
        {
          "output_type": "execute_result",
          "data": {
            "application/vnd.google.colaboratory.intrinsic+json": {
              "type": "string"
            },
            "text/plain": [
              "'http://01a54168c0d3.ngrok.io'"
            ]
          },
          "metadata": {
            "tags": []
          },
          "execution_count": 26
        },
        {
          "output_type": "stream",
          "text": [
            "time: 1.28 s (started: 2021-06-28 11:23:19 +00:00)\n"
          ],
          "name": "stdout"
        }
      ]
    },
    {
      "cell_type": "code",
      "metadata": {
        "id": "XGgFDph1lXtV",
        "colab": {
          "base_uri": "https://localhost:8080/"
        },
        "outputId": "276997a5-42ae-46e3-eda5-6e4eb9519bca"
      },
      "source": [
        "#AWS\n",
        "#Azure\n",
        "#GCP\n",
        "#Heroku - Free Platform for deploying"
      ],
      "execution_count": 27,
      "outputs": [
        {
          "output_type": "stream",
          "text": [
            "time: 1.23 ms (started: 2021-06-28 11:23:20 +00:00)\n"
          ],
          "name": "stdout"
        }
      ]
    },
    {
      "cell_type": "code",
      "metadata": {
        "id": "uaVYbe6NStgs"
      },
      "source": [
        ""
      ],
      "execution_count": 27,
      "outputs": []
    }
  ]
}